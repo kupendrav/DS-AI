{
  "nbformat": 4,
  "nbformat_minor": 0,
  "metadata": {
    "colab": {
      "provenance": [],
      "authorship_tag": "ABX9TyNrfvkPxz+1l3/dHwdfSC/4",
      "include_colab_link": true
    },
    "kernelspec": {
      "name": "python3",
      "display_name": "Python 3"
    },
    "language_info": {
      "name": "python"
    }
  },
  "cells": [
    {
      "cell_type": "markdown",
      "metadata": {
        "id": "view-in-github",
        "colab_type": "text"
      },
      "source": [
        "<a href=\"https://colab.research.google.com/github/kupendrav/DS-AI/blob/main/D_1live.ipynb\" target=\"_parent\"><img src=\"https://colab.research.google.com/assets/colab-badge.svg\" alt=\"Open In Colab\"/></a>"
      ]
    },
    {
      "cell_type": "code",
      "source": [
        "! pip install numpy"
      ],
      "metadata": {
        "colab": {
          "base_uri": "https://localhost:8080/"
        },
        "id": "Y9Gn6_X2nrPD",
        "outputId": "d3c29be0-a975-4697-ffc2-89384cbc10da"
      },
      "execution_count": 6,
      "outputs": [
        {
          "output_type": "stream",
          "name": "stdout",
          "text": [
            "Requirement already satisfied: numpy in /usr/local/lib/python3.10/dist-packages (1.25.2)\n"
          ]
        }
      ]
    },
    {
      "cell_type": "markdown",
      "source": [
        "numpy (NUMERICAL PYTHON) is an open source python library thats used in almost every field of science and engineering\n"
      ],
      "metadata": {
        "id": "wcrWa_nkKqXv"
      }
    },
    {
      "cell_type": "markdown",
      "source": [
        "id()=**pointer to memory location**"
      ],
      "metadata": {
        "id": "0YxiHZinLKJn"
      }
    },
    {
      "cell_type": "code",
      "execution_count": null,
      "metadata": {
        "colab": {
          "base_uri": "https://localhost:8080/"
        },
        "id": "XY4YrzhMKjqU",
        "outputId": "62b3af54-d281-47a5-df88-a33640b61c2e"
      },
      "outputs": [
        {
          "output_type": "execute_result",
          "data": {
            "text/plain": [
              "139508437877040"
            ]
          },
          "metadata": {},
          "execution_count": 1
        }
      ],
      "source": [
        "x=3\n",
        "id(x)"
      ]
    },
    {
      "cell_type": "code",
      "source": [
        "y=3\n",
        "id(y)"
      ],
      "metadata": {
        "colab": {
          "base_uri": "https://localhost:8080/"
        },
        "id": "9h3bYzc6Lg6N",
        "outputId": "be8aa243-85c0-4250-b0d9-a80102b233c5"
      },
      "execution_count": null,
      "outputs": [
        {
          "output_type": "execute_result",
          "data": {
            "text/plain": [
              "139508437877040"
            ]
          },
          "metadata": {},
          "execution_count": 2
        }
      ]
    },
    {
      "cell_type": "markdown",
      "source": [
        "above you can see both are sharing same memory loc to diff variable"
      ],
      "metadata": {
        "id": "S-SBHHpwLm5P"
      }
    },
    {
      "cell_type": "markdown",
      "source": [
        "what are the advantages in array? <br>\n",
        "faster calculation and computation"
      ],
      "metadata": {
        "id": "veGAh1n_NRAW"
      }
    },
    {
      "cell_type": "code",
      "source": [
        "import numpy as np\n",
        "np.__version__"
      ],
      "metadata": {
        "colab": {
          "base_uri": "https://localhost:8080/",
          "height": 36
        },
        "id": "OF6Y8BzwNLVN",
        "outputId": "c2a21864-314d-4e4c-8313-57798a288093"
      },
      "execution_count": 16,
      "outputs": [
        {
          "output_type": "execute_result",
          "data": {
            "text/plain": [
              "'1.25.2'"
            ],
            "application/vnd.google.colaboratory.intrinsic+json": {
              "type": "string"
            }
          },
          "metadata": {},
          "execution_count": 16
        }
      ]
    },
    {
      "cell_type": "code",
      "source": [
        "import numpy as np\n",
        "a = np.array([[1,2,3,4,5],[5,6,7,8,9]])\n",
        "a"
      ],
      "metadata": {
        "colab": {
          "base_uri": "https://localhost:8080/"
        },
        "id": "JrBD3DKWOtDl",
        "outputId": "79ef1b22-6743-481a-b30b-c8e449218fae"
      },
      "execution_count": 12,
      "outputs": [
        {
          "output_type": "execute_result",
          "data": {
            "text/plain": [
              "array([[1, 2, 3, 4, 5],\n",
              "       [5, 6, 7, 8, 9]])"
            ]
          },
          "metadata": {},
          "execution_count": 12
        }
      ]
    },
    {
      "cell_type": "code",
      "source": [
        "np.random.random((3,3))"
      ],
      "metadata": {
        "id": "WplY7Mh0Pa3D",
        "colab": {
          "base_uri": "https://localhost:8080/"
        },
        "outputId": "41485844-9ba8-4700-c243-5d17774bd14a"
      },
      "execution_count": 17,
      "outputs": [
        {
          "output_type": "execute_result",
          "data": {
            "text/plain": [
              "array([[0.77276118, 0.83533996, 0.55037132],\n",
              "       [0.47238262, 0.50407674, 0.52125339],\n",
              "       [0.83797533, 0.19711273, 0.68371395]])"
            ]
          },
          "metadata": {},
          "execution_count": 17
        }
      ]
    }
  ]
}