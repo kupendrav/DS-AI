{
  "nbformat": 4,
  "nbformat_minor": 0,
  "metadata": {
    "colab": {
      "provenance": [],
      "authorship_tag": "ABX9TyOhNguMKcUZr/H1TjlaaL6K",
      "include_colab_link": true
    },
    "kernelspec": {
      "name": "python3",
      "display_name": "Python 3"
    },
    "language_info": {
      "name": "python"
    }
  },
  "cells": [
    {
      "cell_type": "markdown",
      "metadata": {
        "id": "view-in-github",
        "colab_type": "text"
      },
      "source": [
        "<a href=\"https://colab.research.google.com/github/kupendrav/DS-AI/blob/main/D_1live.ipynb\" target=\"_parent\"><img src=\"https://colab.research.google.com/assets/colab-badge.svg\" alt=\"Open In Colab\"/></a>"
      ]
    },
    {
      "cell_type": "markdown",
      "source": [
        "numpy (NUMERICAL PYTHON) is an open source python library thats used in almost every field of science and engineering\n"
      ],
      "metadata": {
        "id": "wcrWa_nkKqXv"
      }
    },
    {
      "cell_type": "markdown",
      "source": [
        "id()=**pointer to memory location**"
      ],
      "metadata": {
        "id": "0YxiHZinLKJn"
      }
    },
    {
      "cell_type": "code",
      "execution_count": 1,
      "metadata": {
        "colab": {
          "base_uri": "https://localhost:8080/"
        },
        "id": "XY4YrzhMKjqU",
        "outputId": "62b3af54-d281-47a5-df88-a33640b61c2e"
      },
      "outputs": [
        {
          "output_type": "execute_result",
          "data": {
            "text/plain": [
              "139508437877040"
            ]
          },
          "metadata": {},
          "execution_count": 1
        }
      ],
      "source": [
        "x=3\n",
        "id(x)"
      ]
    },
    {
      "cell_type": "code",
      "source": [
        "y=3\n",
        "id(y)"
      ],
      "metadata": {
        "colab": {
          "base_uri": "https://localhost:8080/"
        },
        "id": "9h3bYzc6Lg6N",
        "outputId": "be8aa243-85c0-4250-b0d9-a80102b233c5"
      },
      "execution_count": 2,
      "outputs": [
        {
          "output_type": "execute_result",
          "data": {
            "text/plain": [
              "139508437877040"
            ]
          },
          "metadata": {},
          "execution_count": 2
        }
      ]
    },
    {
      "cell_type": "markdown",
      "source": [
        "above you can see both are sharing same memory loc to diff variable"
      ],
      "metadata": {
        "id": "S-SBHHpwLm5P"
      }
    }
  ]
}