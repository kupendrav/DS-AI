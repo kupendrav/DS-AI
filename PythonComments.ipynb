{
  "nbformat": 4,
  "nbformat_minor": 0,
  "metadata": {
    "colab": {
      "provenance": [],
      "toc_visible": true,
      "include_colab_link": true
    },
    "kernelspec": {
      "name": "python3",
      "display_name": "Python 3"
    },
    "language_info": {
      "name": "python"
    }
  },
  "cells": [
    {
      "cell_type": "markdown",
      "metadata": {
        "id": "view-in-github",
        "colab_type": "text"
      },
      "source": [
        "<a href=\"https://colab.research.google.com/github/kupendrav/DS-AI/blob/main/PythonComments.ipynb\" target=\"_parent\"><img src=\"https://colab.research.google.com/assets/colab-badge.svg\" alt=\"Open In Colab\"/></a>"
      ]
    },
    {
      "cell_type": "markdown",
      "source": [
        "[Ybi Foundation](https://www.ybifoundation.org)"
      ],
      "metadata": {
        "id": "geHotNIV_cxm"
      }
    },
    {
      "cell_type": "markdown",
      "metadata": {
        "id": "OsZkXngBhE7K"
      },
      "source": [
        "# Add Single Line Comment"
      ]
    },
    {
      "cell_type": "code",
      "execution_count": null,
      "metadata": {
        "scrolled": true,
        "colab": {
          "base_uri": "https://localhost:8080/"
        },
        "id": "_MkqXL00hE7K",
        "outputId": "e4c090f1-c9e3-48d8-8717-5c947a8bae64"
      },
      "outputs": [
        {
          "output_type": "stream",
          "name": "stdout",
          "text": [
            "25 29\n"
          ]
        }
      ],
      "source": [
        "# this is just a comment and not code\n",
        "\n",
        "print (25, 29)"
      ]
    },
    {
      "cell_type": "markdown",
      "source": [
        "# Add Multi Line Comments"
      ],
      "metadata": {
        "id": "EWIIcCvIfqwe"
      }
    },
    {
      "cell_type": "code",
      "execution_count": null,
      "metadata": {
        "colab": {
          "base_uri": "https://localhost:8080/"
        },
        "id": "YMrdUfLShE7L",
        "outputId": "b6dcc2d3-9552-43d3-e1d0-868c1456baa6"
      },
      "outputs": [
        {
          "output_type": "stream",
          "name": "stdout",
          "text": [
            "2529\n"
          ]
        }
      ],
      "source": [
        "# comment 1\n",
        "# comment 2\n",
        "\n",
        "print (25, 29)"
      ]
    },
    {
      "cell_type": "markdown",
      "source": [
        "# Add Cntinuation Comments"
      ],
      "metadata": {
        "id": "bhfs_MY5fupB"
      }
    },
    {
      "cell_type": "code",
      "source": [
        "\"\"\"\n",
        "this is\n",
        "a\n",
        "multiline\n",
        "comment\n",
        "\n",
        "\"\"\"\n",
        "2"
      ],
      "metadata": {
        "colab": {
          "base_uri": "https://localhost:8080/"
        },
        "id": "myVLyxWxQTG2",
        "outputId": "093aaf1f-27cb-4da3-8a8a-7d85c3e11b92"
      },
      "execution_count": null,
      "outputs": [
        {
          "output_type": "execute_result",
          "data": {
            "text/plain": [
              "2"
            ]
          },
          "metadata": {},
          "execution_count": 7
        }
      ]
    },
    {
      "cell_type": "markdown",
      "metadata": {
        "id": "SgryUTNNhE7L"
      },
      "source": [
        "# **Line Continuation**"
      ]
    },
    {
      "cell_type": "code",
      "execution_count": null,
      "metadata": {
        "id": "ZjO-JY7NhE7M",
        "outputId": "c3279d3b-76ca-497b-fc52-b9dc87086644"
      },
      "outputs": [
        {
          "data": {
            "text/plain": [
              "8.0"
            ]
          },
          "execution_count": 1,
          "metadata": {},
          "output_type": "execute_result"
        }
      ],
      "source": [
        "# multi line code\n",
        "\n",
        "2.0 * 1.5 + \\\n",
        "5"
      ]
    },
    {
      "cell_type": "markdown",
      "source": [
        "#🔗[Have a Doubt? Join Our Live Q&A for Help](https://www.ybifoundation.org/session/live-doubt-resolution-session)"
      ],
      "metadata": {
        "id": "UiTvHzJiKanQ"
      }
    },
    {
      "cell_type": "code",
      "source": [],
      "metadata": {
        "id": "eKsQzQ7ZZVn3"
      },
      "execution_count": null,
      "outputs": []
    }
  ]
}