{
  "nbformat": 4,
  "nbformat_minor": 0,
  "metadata": {
    "colab": {
      "provenance": [],
      "toc_visible": true,
      "include_colab_link": true
    },
    "kernelspec": {
      "name": "python3",
      "display_name": "Python 3"
    },
    "language_info": {
      "name": "python"
    }
  },
  "cells": [
    {
      "cell_type": "markdown",
      "metadata": {
        "id": "view-in-github",
        "colab_type": "text"
      },
      "source": [
        "<a href=\"https://colab.research.google.com/github/kupendrav/DS-AI/blob/main/PythonDataTypes.ipynb\" target=\"_parent\"><img src=\"https://colab.research.google.com/assets/colab-badge.svg\" alt=\"Open In Colab\"/></a>"
      ]
    },
    {
      "cell_type": "markdown",
      "source": [
        "[Ybi Foundation](https://www.ybifoundation.org)"
      ],
      "metadata": {
        "id": "H_fPVYNT9wbC"
      }
    },
    {
      "cell_type": "markdown",
      "source": [
        "# **Integer**"
      ],
      "metadata": {
        "id": "OO9AQGQyWTt2"
      }
    },
    {
      "cell_type": "code",
      "execution_count": null,
      "metadata": {
        "colab": {
          "base_uri": "https://localhost:8080/"
        },
        "id": "B1vWDb9KVXtP",
        "outputId": "3e754a76-1b99-4b45-dc58-11b8f70b10ea"
      },
      "outputs": [
        {
          "output_type": "execute_result",
          "data": {
            "text/plain": [
              "2"
            ]
          },
          "metadata": {},
          "execution_count": 3
        }
      ],
      "source": [
        "# integer\n",
        "2"
      ]
    },
    {
      "cell_type": "code",
      "source": [
        "# check data type\n",
        "type(2)"
      ],
      "metadata": {
        "colab": {
          "base_uri": "https://localhost:8080/"
        },
        "id": "Z6v8mqFTVvyI",
        "outputId": "e30af374-6530-469d-8897-085ba56f085a"
      },
      "execution_count": null,
      "outputs": [
        {
          "output_type": "execute_result",
          "data": {
            "text/plain": [
              "int"
            ]
          },
          "metadata": {},
          "execution_count": 4
        }
      ]
    },
    {
      "cell_type": "markdown",
      "source": [
        "# **Float**"
      ],
      "metadata": {
        "id": "XHFYO9x-WVcX"
      }
    },
    {
      "cell_type": "code",
      "source": [
        "# float\n",
        "3.2"
      ],
      "metadata": {
        "colab": {
          "base_uri": "https://localhost:8080/"
        },
        "id": "V8Q5O61jWW3_",
        "outputId": "2964750e-590c-47c0-f6d5-231b49ce48a2"
      },
      "execution_count": null,
      "outputs": [
        {
          "output_type": "execute_result",
          "data": {
            "text/plain": [
              "3.2"
            ]
          },
          "metadata": {},
          "execution_count": 5
        }
      ]
    },
    {
      "cell_type": "code",
      "source": [
        "# check data type\n",
        "type(3.2)"
      ],
      "metadata": {
        "colab": {
          "base_uri": "https://localhost:8080/"
        },
        "id": "HoeZPKumYYTO",
        "outputId": "ba079d73-ce7b-43f5-b925-a813fe162aef"
      },
      "execution_count": null,
      "outputs": [
        {
          "output_type": "execute_result",
          "data": {
            "text/plain": [
              "float"
            ]
          },
          "metadata": {},
          "execution_count": 6
        }
      ]
    },
    {
      "cell_type": "markdown",
      "source": [
        "# **Complex Number**"
      ],
      "metadata": {
        "id": "y5XZKbmwYZwM"
      }
    },
    {
      "cell_type": "code",
      "source": [
        "# complex number\n",
        "2j + 3"
      ],
      "metadata": {
        "colab": {
          "base_uri": "https://localhost:8080/"
        },
        "id": "6fgfZmMOYcxa",
        "outputId": "989224f9-c2dd-45e5-d178-c1154d370e96"
      },
      "execution_count": null,
      "outputs": [
        {
          "output_type": "execute_result",
          "data": {
            "text/plain": [
              "(3+2j)"
            ]
          },
          "metadata": {},
          "execution_count": 7
        }
      ]
    },
    {
      "cell_type": "code",
      "source": [
        "# check type\n",
        "type(2j + 3)"
      ],
      "metadata": {
        "colab": {
          "base_uri": "https://localhost:8080/"
        },
        "id": "gyTbz-A_YgGV",
        "outputId": "602e50b4-f2de-4036-a336-6e099d51b50d"
      },
      "execution_count": null,
      "outputs": [
        {
          "output_type": "execute_result",
          "data": {
            "text/plain": [
              "complex"
            ]
          },
          "metadata": {},
          "execution_count": 8
        }
      ]
    },
    {
      "cell_type": "code",
      "source": [
        "# imaginary and real part of complex number\n",
        "x = 2j+3\n",
        "x.imag, x.real"
      ],
      "metadata": {
        "colab": {
          "base_uri": "https://localhost:8080/"
        },
        "id": "dnDnyWO5YgM0",
        "outputId": "1557afe0-0b66-4483-9cdb-098cf6ece7de"
      },
      "execution_count": null,
      "outputs": [
        {
          "output_type": "execute_result",
          "data": {
            "text/plain": [
              "(2.0, 3.0)"
            ]
          },
          "metadata": {},
          "execution_count": 9
        }
      ]
    },
    {
      "cell_type": "markdown",
      "source": [
        "# **Boolean**"
      ],
      "metadata": {
        "id": "o4i9uqlgYtbl"
      }
    },
    {
      "cell_type": "code",
      "source": [
        "# boolean\n",
        "True"
      ],
      "metadata": {
        "colab": {
          "base_uri": "https://localhost:8080/"
        },
        "id": "AlI_JzY5Yvg1",
        "outputId": "ed81221f-3884-41cc-ec11-d4337245ed47"
      },
      "execution_count": null,
      "outputs": [
        {
          "output_type": "execute_result",
          "data": {
            "text/plain": [
              "True"
            ]
          },
          "metadata": {},
          "execution_count": 10
        }
      ]
    },
    {
      "cell_type": "code",
      "source": [
        "# check type\n",
        "type(True)"
      ],
      "metadata": {
        "colab": {
          "base_uri": "https://localhost:8080/"
        },
        "id": "b7xHt6_EYvly",
        "outputId": "820ba5a7-6044-4e5c-8ead-8d312a7440ab"
      },
      "execution_count": null,
      "outputs": [
        {
          "output_type": "execute_result",
          "data": {
            "text/plain": [
              "bool"
            ]
          },
          "metadata": {},
          "execution_count": 11
        }
      ]
    },
    {
      "cell_type": "code",
      "source": [
        "# any value is TRUE\n",
        "bool('ybi foundation')"
      ],
      "metadata": {
        "colab": {
          "base_uri": "https://localhost:8080/"
        },
        "id": "XHLA2tV-Y3J1",
        "outputId": "c8a5c3ba-19e1-492c-ca8b-206dfca6ca50"
      },
      "execution_count": null,
      "outputs": [
        {
          "output_type": "execute_result",
          "data": {
            "text/plain": [
              "True"
            ]
          },
          "metadata": {},
          "execution_count": 13
        }
      ]
    },
    {
      "cell_type": "code",
      "source": [
        "# any value is TRUE even a blank space\n",
        "bool(' ')"
      ],
      "metadata": {
        "colab": {
          "base_uri": "https://localhost:8080/"
        },
        "id": "H3SPcyJ5ZOhs",
        "outputId": "e392b1c1-165c-45f6-ccc3-5d2eaac6bc4a"
      },
      "execution_count": null,
      "outputs": [
        {
          "output_type": "execute_result",
          "data": {
            "text/plain": [
              "True"
            ]
          },
          "metadata": {},
          "execution_count": 14
        }
      ]
    },
    {
      "cell_type": "code",
      "source": [
        "# boolean\n",
        "False"
      ],
      "metadata": {
        "colab": {
          "base_uri": "https://localhost:8080/"
        },
        "id": "LVhmhSTgYx7T",
        "outputId": "a1fad3b8-b766-4874-c9bb-7bbc112641d3"
      },
      "execution_count": null,
      "outputs": [
        {
          "output_type": "execute_result",
          "data": {
            "text/plain": [
              "False"
            ]
          },
          "metadata": {},
          "execution_count": 12
        }
      ]
    },
    {
      "cell_type": "code",
      "source": [
        "# check type\n",
        "type(False)"
      ],
      "metadata": {
        "colab": {
          "base_uri": "https://localhost:8080/"
        },
        "id": "etLO0lu2Yx_H",
        "outputId": "0e070093-c5b8-4c38-ad3c-4d3311aa1091"
      },
      "execution_count": null,
      "outputs": [
        {
          "output_type": "execute_result",
          "data": {
            "text/plain": [
              "bool"
            ]
          },
          "metadata": {},
          "execution_count": 15
        }
      ]
    },
    {
      "cell_type": "code",
      "source": [
        "# 0 is FALSE\n",
        "bool(0)"
      ],
      "metadata": {
        "colab": {
          "base_uri": "https://localhost:8080/"
        },
        "id": "yrey0uXTYurz",
        "outputId": "72769605-54ee-4025-e4f5-e032d8c8db96"
      },
      "execution_count": null,
      "outputs": [
        {
          "output_type": "execute_result",
          "data": {
            "text/plain": [
              "False"
            ]
          },
          "metadata": {},
          "execution_count": 16
        }
      ]
    },
    {
      "cell_type": "code",
      "source": [
        "# no space is FALSE\n",
        "bool('')"
      ],
      "metadata": {
        "colab": {
          "base_uri": "https://localhost:8080/"
        },
        "id": "XgWMD2HBY6cg",
        "outputId": "690030d3-fd04-4b11-dd4c-ed9e113b49b9"
      },
      "execution_count": null,
      "outputs": [
        {
          "output_type": "execute_result",
          "data": {
            "text/plain": [
              "False"
            ]
          },
          "metadata": {},
          "execution_count": 17
        }
      ]
    },
    {
      "cell_type": "markdown",
      "source": [
        "# **String**"
      ],
      "metadata": {
        "id": "Ngiub4CIY-rd"
      }
    },
    {
      "cell_type": "code",
      "source": [
        "# string\n",
        "'ybi foundation'"
      ],
      "metadata": {
        "colab": {
          "base_uri": "https://localhost:8080/",
          "height": 35
        },
        "id": "fgTRb-I0Y78T",
        "outputId": "cd5c4bed-948e-4fd8-f8b4-b695d81c7991"
      },
      "execution_count": null,
      "outputs": [
        {
          "output_type": "execute_result",
          "data": {
            "text/plain": [
              "'ybi foundation'"
            ],
            "application/vnd.google.colaboratory.intrinsic+json": {
              "type": "string"
            }
          },
          "metadata": {},
          "execution_count": 18
        }
      ]
    },
    {
      "cell_type": "code",
      "source": [
        "# check type\n",
        "type('ybi foundation')"
      ],
      "metadata": {
        "colab": {
          "base_uri": "https://localhost:8080/"
        },
        "id": "VD4Id8zOZLUw",
        "outputId": "86649bb5-3227-4b2d-c811-6a6bf4b4150b"
      },
      "execution_count": null,
      "outputs": [
        {
          "output_type": "execute_result",
          "data": {
            "text/plain": [
              "str"
            ]
          },
          "metadata": {},
          "execution_count": 19
        }
      ]
    },
    {
      "cell_type": "markdown",
      "source": [
        "# **None Type**"
      ],
      "metadata": {
        "id": "H7oO3-d-ZBvq"
      }
    },
    {
      "cell_type": "code",
      "source": [
        "# None type\n",
        "None"
      ],
      "metadata": {
        "id": "4nvXmlm8ZEh5"
      },
      "execution_count": null,
      "outputs": []
    },
    {
      "cell_type": "code",
      "source": [
        "# check type\n",
        "type(None)"
      ],
      "metadata": {
        "colab": {
          "base_uri": "https://localhost:8080/"
        },
        "id": "_k-zy_dAZFbq",
        "outputId": "aeb7b3c5-97f5-4a74-ac8c-ea7968c15128"
      },
      "execution_count": null,
      "outputs": [
        {
          "output_type": "execute_result",
          "data": {
            "text/plain": [
              "NoneType"
            ]
          },
          "metadata": {},
          "execution_count": 21
        }
      ]
    },
    {
      "cell_type": "markdown",
      "source": [
        "# **List**"
      ],
      "metadata": {
        "id": "OwsU-gOjHGtK"
      }
    },
    {
      "cell_type": "code",
      "source": [
        "[1,2,3.2,'ybi']"
      ],
      "metadata": {
        "id": "ljYqinxPHIbE"
      },
      "execution_count": null,
      "outputs": []
    },
    {
      "cell_type": "code",
      "source": [
        "type([1,2,3.2,'ybi'])"
      ],
      "metadata": {
        "id": "jX2UBWPMHLwX"
      },
      "execution_count": null,
      "outputs": []
    },
    {
      "cell_type": "code",
      "source": [
        "my_list = [-1, True, 4.2, 'ybi foundation', 1,1,[1,2,3]]\t#list"
      ],
      "metadata": {
        "id": "ubcSN1zHmxEQ"
      },
      "execution_count": null,
      "outputs": []
    },
    {
      "cell_type": "code",
      "source": [
        "my_list = list((-1, True, 4.2, 'ybi foundation', 1,1,[1,2,3]))\t#list"
      ],
      "metadata": {
        "id": "JL4dVBrGmxHP"
      },
      "execution_count": null,
      "outputs": []
    },
    {
      "cell_type": "code",
      "source": [
        "my_list"
      ],
      "metadata": {
        "colab": {
          "base_uri": "https://localhost:8080/"
        },
        "id": "jgNA933VnpEd",
        "outputId": "c58a6c77-2a64-4e1b-965c-e67fed926236"
      },
      "execution_count": null,
      "outputs": [
        {
          "output_type": "execute_result",
          "data": {
            "text/plain": [
              "[-1, True, 4.2, 'ybi foundation', 1, 1, [1, 2, 3]]"
            ]
          },
          "metadata": {},
          "execution_count": 23
        }
      ]
    },
    {
      "cell_type": "code",
      "source": [
        "type(my_list)"
      ],
      "metadata": {
        "colab": {
          "base_uri": "https://localhost:8080/"
        },
        "id": "XmLjRprqm7ur",
        "outputId": "812faf15-1e6f-43b7-fe42-2ee031f0da3e"
      },
      "execution_count": null,
      "outputs": [
        {
          "output_type": "execute_result",
          "data": {
            "text/plain": [
              "list"
            ]
          },
          "metadata": {},
          "execution_count": 24
        }
      ]
    },
    {
      "cell_type": "markdown",
      "source": [
        "# **Tuple**"
      ],
      "metadata": {
        "id": "xVrQhH7SHNH-"
      }
    },
    {
      "cell_type": "code",
      "source": [
        "{1,2,3.2,'ybi'}"
      ],
      "metadata": {
        "id": "0vOhF_b9HO2K"
      },
      "execution_count": null,
      "outputs": []
    },
    {
      "cell_type": "code",
      "source": [
        "a = 1"
      ],
      "metadata": {
        "id": "e9iytDj5g1kM"
      },
      "execution_count": null,
      "outputs": []
    },
    {
      "cell_type": "code",
      "source": [
        "type(a)"
      ],
      "metadata": {
        "id": "4pFwHj37g2vX"
      },
      "execution_count": null,
      "outputs": []
    },
    {
      "cell_type": "code",
      "source": [
        "b = 1,"
      ],
      "metadata": {
        "id": "ZT-GXmUhgp8T"
      },
      "execution_count": null,
      "outputs": []
    },
    {
      "cell_type": "code",
      "source": [
        "type(b)"
      ],
      "metadata": {
        "colab": {
          "base_uri": "https://localhost:8080/"
        },
        "id": "XrCM27pJgvvW",
        "outputId": "d173a24a-b25b-4632-aa76-70612abb5cff"
      },
      "execution_count": null,
      "outputs": [
        {
          "output_type": "execute_result",
          "data": {
            "text/plain": [
              "tuple"
            ]
          },
          "metadata": {},
          "execution_count": 3
        }
      ]
    },
    {
      "cell_type": "code",
      "source": [
        "c = 1,2,3"
      ],
      "metadata": {
        "id": "rKZg7RqigxGH"
      },
      "execution_count": null,
      "outputs": []
    },
    {
      "cell_type": "code",
      "source": [
        "type(c)"
      ],
      "metadata": {
        "colab": {
          "base_uri": "https://localhost:8080/"
        },
        "id": "9s-Rxi1ngzxQ",
        "outputId": "c79d4452-c040-454a-84cf-ea1e281b9ec9"
      },
      "execution_count": null,
      "outputs": [
        {
          "output_type": "execute_result",
          "data": {
            "text/plain": [
              "tuple"
            ]
          },
          "metadata": {},
          "execution_count": 6
        }
      ]
    },
    {
      "cell_type": "code",
      "source": [
        "my_tuple = (-1, True, 4.2, 'ybi foundation', 1,1,[1,2,3])\t#tuple"
      ],
      "metadata": {
        "id": "IA1_fEr7nCS4"
      },
      "execution_count": null,
      "outputs": []
    },
    {
      "cell_type": "code",
      "source": [
        "my_tuple = tuple((-1, True, 4.2, 'ybi foundation', 1,1,[1,2,3]))\t#tuple"
      ],
      "metadata": {
        "id": "M9kZq6-nnCWi"
      },
      "execution_count": null,
      "outputs": []
    },
    {
      "cell_type": "code",
      "source": [
        "my_tuple"
      ],
      "metadata": {
        "colab": {
          "base_uri": "https://localhost:8080/"
        },
        "id": "DTrYqahGntc1",
        "outputId": "c7e2a8d0-aafd-49cd-ccba-f65f87919859"
      },
      "execution_count": null,
      "outputs": [
        {
          "output_type": "execute_result",
          "data": {
            "text/plain": [
              "(-1, True, 4.2, 'ybi foundation', 1, 1, [1, 2, 3])"
            ]
          },
          "metadata": {},
          "execution_count": 29
        }
      ]
    },
    {
      "cell_type": "code",
      "source": [
        "type(f)"
      ],
      "metadata": {
        "colab": {
          "base_uri": "https://localhost:8080/"
        },
        "id": "BxXyMlc4nCfh",
        "outputId": "34eac3cc-a3a4-4c5e-c116-1b1c023caa03"
      },
      "execution_count": null,
      "outputs": [
        {
          "output_type": "execute_result",
          "data": {
            "text/plain": [
              "tuple"
            ]
          },
          "metadata": {},
          "execution_count": 30
        }
      ]
    },
    {
      "cell_type": "markdown",
      "source": [
        "# **Sets**"
      ],
      "metadata": {
        "id": "nC2D3IvShrxE"
      }
    },
    {
      "cell_type": "code",
      "source": [
        "my_set = {2, 3, 2, 3,'a', True, 2+3j, 4.5}"
      ],
      "metadata": {
        "id": "btcsDepki21i"
      },
      "execution_count": null,
      "outputs": []
    },
    {
      "cell_type": "code",
      "source": [
        "my_set = set(( 2, 3, 2, 3,'a', True, 2+3j, 4.5))"
      ],
      "metadata": {
        "id": "KXIdbfC7jKUP"
      },
      "execution_count": null,
      "outputs": []
    },
    {
      "cell_type": "code",
      "source": [
        "type(my_set)"
      ],
      "metadata": {
        "colab": {
          "base_uri": "https://localhost:8080/"
        },
        "id": "QbDEjRjAi238",
        "outputId": "c8b28e9c-4914-4ad4-e7cd-f835bbf40c1a"
      },
      "execution_count": null,
      "outputs": [
        {
          "output_type": "execute_result",
          "data": {
            "text/plain": [
              "set"
            ]
          },
          "metadata": {},
          "execution_count": 62
        }
      ]
    },
    {
      "cell_type": "code",
      "source": [
        "my_set"
      ],
      "metadata": {
        "colab": {
          "base_uri": "https://localhost:8080/"
        },
        "id": "s-w_OUIBjI72",
        "outputId": "b6cbdb0f-8861-492d-dcfa-0607456b6990"
      },
      "execution_count": null,
      "outputs": [
        {
          "output_type": "execute_result",
          "data": {
            "text/plain": [
              "{(2+3j), 2, 3, 4.5, True, 'a'}"
            ]
          },
          "metadata": {},
          "execution_count": 63
        }
      ]
    },
    {
      "cell_type": "markdown",
      "source": [
        "# **Dictionary**"
      ],
      "metadata": {
        "id": "CnDmPlxJhJHT"
      }
    },
    {
      "cell_type": "code",
      "source": [
        "my_dict = {'name' : ['ania', 'sonu', ' ania'], 'age' : [8, 4, 6]} #\tdictionary"
      ],
      "metadata": {
        "id": "ua7vYEoLn0Zz"
      },
      "execution_count": null,
      "outputs": []
    },
    {
      "cell_type": "code",
      "source": [
        "my_dict"
      ],
      "metadata": {
        "colab": {
          "base_uri": "https://localhost:8080/"
        },
        "id": "ULnoqZmPn5pA",
        "outputId": "7c80b20e-0b3b-4ed8-c5b2-394abc6e19d5"
      },
      "execution_count": null,
      "outputs": [
        {
          "output_type": "execute_result",
          "data": {
            "text/plain": [
              "{'name': ['ania', 'sonu', ' ania'], 'age': [8, 4, 6]}"
            ]
          },
          "metadata": {},
          "execution_count": 8
        }
      ]
    },
    {
      "cell_type": "code",
      "source": [
        "type(my_dict)"
      ],
      "metadata": {
        "colab": {
          "base_uri": "https://localhost:8080/"
        },
        "id": "cJBorCMOpdar",
        "outputId": "f532274d-aa3b-4da2-f54a-fba85af6712a"
      },
      "execution_count": null,
      "outputs": [
        {
          "output_type": "execute_result",
          "data": {
            "text/plain": [
              "dict"
            ]
          },
          "metadata": {},
          "execution_count": 9
        }
      ]
    },
    {
      "cell_type": "code",
      "source": [
        "my_dictionary={'integer':[2, 3, 2, 3],'string':'a','boolean':True,'complex':2+3j,'float': 4.5}"
      ],
      "metadata": {
        "id": "aeOW8gZKkY-W"
      },
      "execution_count": null,
      "outputs": []
    },
    {
      "cell_type": "code",
      "source": [
        "my_dictionary=dict({'integer':[2, 3, 2, 3],'string':'a','boolean':True,'complex':2+3j,'float':4.5})"
      ],
      "metadata": {
        "id": "SWHdmgy8lDqq"
      },
      "execution_count": null,
      "outputs": []
    },
    {
      "cell_type": "code",
      "source": [
        "type(my_dictionary)"
      ],
      "metadata": {
        "colab": {
          "base_uri": "https://localhost:8080/"
        },
        "id": "PYPayKFdlBgu",
        "outputId": "555b3849-b3a7-40ff-d47a-83e8454a31bc"
      },
      "execution_count": null,
      "outputs": [
        {
          "output_type": "execute_result",
          "data": {
            "text/plain": [
              "dict"
            ]
          },
          "metadata": {},
          "execution_count": 73
        }
      ]
    },
    {
      "cell_type": "code",
      "source": [
        "my_dictionary"
      ],
      "metadata": {
        "colab": {
          "base_uri": "https://localhost:8080/"
        },
        "id": "mNEDjix1k6G7",
        "outputId": "8d8411f1-379d-424f-b8f8-8d715d97595a"
      },
      "execution_count": null,
      "outputs": [
        {
          "output_type": "execute_result",
          "data": {
            "text/plain": [
              "{'boolean': True,\n",
              " 'complex': (2+3j),\n",
              " 'float': 4.5,\n",
              " 'integer': [2, 3, 2, 3],\n",
              " 'string': 'a'}"
            ]
          },
          "metadata": {},
          "execution_count": 74
        }
      ]
    },
    {
      "cell_type": "markdown",
      "source": [
        "# **Range Type**"
      ],
      "metadata": {
        "id": "gw5eWUiJ8iUt"
      }
    },
    {
      "cell_type": "code",
      "source": [
        "# data type range\n",
        "\n",
        "range(10)"
      ],
      "metadata": {
        "colab": {
          "base_uri": "https://localhost:8080/"
        },
        "id": "Vc_cDw6J7S-w",
        "outputId": "36863030-b89c-46eb-dd56-320e991a5412"
      },
      "execution_count": null,
      "outputs": [
        {
          "output_type": "execute_result",
          "data": {
            "text/plain": [
              "range(0, 10)"
            ]
          },
          "metadata": {},
          "execution_count": 20
        }
      ]
    },
    {
      "cell_type": "code",
      "source": [
        "type(range(10))"
      ],
      "metadata": {
        "colab": {
          "base_uri": "https://localhost:8080/"
        },
        "id": "oeNmrkp97Wjx",
        "outputId": "cef3453a-f073-460a-820b-30c64f328c07"
      },
      "execution_count": null,
      "outputs": [
        {
          "output_type": "execute_result",
          "data": {
            "text/plain": [
              "range"
            ]
          },
          "metadata": {},
          "execution_count": 21
        }
      ]
    },
    {
      "cell_type": "markdown",
      "source": [
        "#🔗[Have a Doubt? Join Our Live Q&A for Help](https://www.ybifoundation.org/session/live-doubt-resolution-session)"
      ],
      "metadata": {
        "id": "8w3r1YZMK6w1"
      }
    }
  ]
}