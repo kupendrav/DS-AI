{
  "nbformat": 4,
  "nbformat_minor": 0,
  "metadata": {
    "colab": {
      "provenance": [],
      "include_colab_link": true
    },
    "kernelspec": {
      "name": "python3",
      "display_name": "Python 3"
    },
    "language_info": {
      "name": "python"
    }
  },
  "cells": [
    {
      "cell_type": "markdown",
      "metadata": {
        "id": "view-in-github",
        "colab_type": "text"
      },
      "source": [
        "<a href=\"https://colab.research.google.com/github/kupendrav/DS-AI/blob/main/PythonOperators.ipynb\" target=\"_parent\"><img src=\"https://colab.research.google.com/assets/colab-badge.svg\" alt=\"Open In Colab\"/></a>"
      ]
    },
    {
      "cell_type": "markdown",
      "source": [
        "https://www.ybifoundation.org"
      ],
      "metadata": {
        "id": "geHotNIV_cxm"
      }
    },
    {
      "cell_type": "markdown",
      "source": [
        "## **Arithematic Operators**"
      ],
      "metadata": {
        "id": "Eok9axkPoPB-"
      }
    },
    {
      "cell_type": "code",
      "source": [
        "# Add\n",
        "2+3.0\n",
        "\n",
        "# Subtract\n",
        "25-15\n",
        "\n",
        "# Multiply\n",
        "2*3\n",
        "\n",
        "# Divide (float)\n",
        "5/2\n",
        "\n",
        "# Divide (floor)\n",
        "5//2\n",
        "\n",
        "# Modulus\n",
        "5%2\n",
        "\n",
        "# Exponential\n",
        "5**3\n",
        "\n",
        "a = 2\n",
        "a**=2\n",
        "a"
      ],
      "metadata": {
        "id": "8rl1mlPBKdaL"
      },
      "execution_count": null,
      "outputs": []
    },
    {
      "cell_type": "code",
      "source": [
        "3+2"
      ],
      "metadata": {
        "colab": {
          "base_uri": "https://localhost:8080/"
        },
        "id": "2a1fWkIJqF4P",
        "outputId": "1d38f0a9-2864-4f8a-a6a2-d3c79d6a2b1c"
      },
      "execution_count": null,
      "outputs": [
        {
          "output_type": "execute_result",
          "data": {
            "text/plain": [
              "54"
            ]
          },
          "metadata": {},
          "execution_count": 33
        }
      ]
    },
    {
      "cell_type": "code",
      "source": [
        "3-2"
      ],
      "metadata": {
        "colab": {
          "base_uri": "https://localhost:8080/"
        },
        "id": "2QHf7GxYqHWI",
        "outputId": "dbd32694-b3d9-4e8d-ba37-8326cca81f3a"
      },
      "execution_count": null,
      "outputs": [
        {
          "output_type": "execute_result",
          "data": {
            "text/plain": [
              "1"
            ]
          },
          "metadata": {},
          "execution_count": 35
        }
      ]
    },
    {
      "cell_type": "code",
      "source": [
        "3/2"
      ],
      "metadata": {
        "colab": {
          "base_uri": "https://localhost:8080/"
        },
        "id": "ZSFxpf3RqLa6",
        "outputId": "64f1eee4-892c-4bbf-c3ea-293561434547"
      },
      "execution_count": null,
      "outputs": [
        {
          "output_type": "execute_result",
          "data": {
            "text/plain": [
              "1.5"
            ]
          },
          "metadata": {},
          "execution_count": 36
        }
      ]
    },
    {
      "cell_type": "code",
      "source": [
        "3//2"
      ],
      "metadata": {
        "colab": {
          "base_uri": "https://localhost:8080/"
        },
        "id": "JmAv6NhxqLf4",
        "outputId": "b42d93b6-fa2c-4430-c0b1-2aaef53a1cbc"
      },
      "execution_count": null,
      "outputs": [
        {
          "output_type": "execute_result",
          "data": {
            "text/plain": [
              "1"
            ]
          },
          "metadata": {},
          "execution_count": 37
        }
      ]
    },
    {
      "cell_type": "code",
      "source": [
        "3%2"
      ],
      "metadata": {
        "colab": {
          "base_uri": "https://localhost:8080/"
        },
        "id": "D35BCDnyqSAb",
        "outputId": "bb2397dd-148c-439d-ed21-0285a730cc0c"
      },
      "execution_count": null,
      "outputs": [
        {
          "output_type": "execute_result",
          "data": {
            "text/plain": [
              "1"
            ]
          },
          "metadata": {},
          "execution_count": 38
        }
      ]
    },
    {
      "cell_type": "code",
      "source": [
        "3**2"
      ],
      "metadata": {
        "colab": {
          "base_uri": "https://localhost:8080/"
        },
        "id": "P-DLJ_zyqTa7",
        "outputId": "3e9405ee-fef7-4f26-cacd-9101a160fe1e"
      },
      "execution_count": null,
      "outputs": [
        {
          "output_type": "execute_result",
          "data": {
            "text/plain": [
              "9"
            ]
          },
          "metadata": {},
          "execution_count": 39
        }
      ]
    },
    {
      "cell_type": "markdown",
      "source": [
        "## **Comparision Operator**"
      ],
      "metadata": {
        "id": "s7-dh0zdqW2J"
      }
    },
    {
      "cell_type": "code",
      "source": [
        "# Equal to\n",
        "2 ==2\n",
        "\n",
        "# Not equal to\n",
        "3!=2\n",
        "\n",
        "# Greater than\n",
        "3>2\n",
        "3>=2\n",
        "\n",
        "# Less than\n",
        "2<3\n",
        "3<=2\n",
        "\n",
        "# Comparision\n",
        "x = 25\n",
        "y = 29\n",
        "x<29\n",
        "y<25\n",
        "y!=25"
      ],
      "metadata": {
        "id": "B_e2TCqKKoA-"
      },
      "execution_count": null,
      "outputs": []
    },
    {
      "cell_type": "code",
      "source": [
        "3<2"
      ],
      "metadata": {
        "colab": {
          "base_uri": "https://localhost:8080/"
        },
        "id": "hHidIoVTqZIk",
        "outputId": "223803e3-77cd-4070-b6c6-25d731b32d50"
      },
      "execution_count": null,
      "outputs": [
        {
          "output_type": "execute_result",
          "data": {
            "text/plain": [
              "True"
            ]
          },
          "metadata": {},
          "execution_count": 40
        }
      ]
    },
    {
      "cell_type": "code",
      "source": [
        "3>2"
      ],
      "metadata": {
        "colab": {
          "base_uri": "https://localhost:8080/"
        },
        "id": "J0Tlqmd8qZMD",
        "outputId": "777be068-8134-4e34-d7d0-5af14ff8e379"
      },
      "execution_count": null,
      "outputs": [
        {
          "output_type": "execute_result",
          "data": {
            "text/plain": [
              "False"
            ]
          },
          "metadata": {},
          "execution_count": 41
        }
      ]
    },
    {
      "cell_type": "code",
      "source": [
        "3==2"
      ],
      "metadata": {
        "colab": {
          "base_uri": "https://localhost:8080/"
        },
        "id": "fEHRPcC0qb5K",
        "outputId": "91a15ce3-b5df-4cae-a94d-89b8e296a8fd"
      },
      "execution_count": null,
      "outputs": [
        {
          "output_type": "execute_result",
          "data": {
            "text/plain": [
              "False"
            ]
          },
          "metadata": {},
          "execution_count": 42
        }
      ]
    },
    {
      "cell_type": "code",
      "source": [
        "3<=2"
      ],
      "metadata": {
        "colab": {
          "base_uri": "https://localhost:8080/"
        },
        "id": "ipt6jMMVqb8a",
        "outputId": "5352dbce-ae70-435f-e7af-d37162bb2c41"
      },
      "execution_count": null,
      "outputs": [
        {
          "output_type": "execute_result",
          "data": {
            "text/plain": [
              "False"
            ]
          },
          "metadata": {},
          "execution_count": 43
        }
      ]
    },
    {
      "cell_type": "code",
      "source": [
        "3>=2"
      ],
      "metadata": {
        "colab": {
          "base_uri": "https://localhost:8080/"
        },
        "id": "itqaexIDqb_o",
        "outputId": "441d2f81-dcd4-4924-c270-b726433077d8"
      },
      "execution_count": null,
      "outputs": [
        {
          "output_type": "execute_result",
          "data": {
            "text/plain": [
              "True"
            ]
          },
          "metadata": {},
          "execution_count": 44
        }
      ]
    },
    {
      "cell_type": "code",
      "source": [
        "3!=2"
      ],
      "metadata": {
        "colab": {
          "base_uri": "https://localhost:8080/"
        },
        "id": "1V7e9kdrqjid",
        "outputId": "945ff121-cd20-4e15-ab7d-a9d1cf12e104"
      },
      "execution_count": null,
      "outputs": [
        {
          "output_type": "execute_result",
          "data": {
            "text/plain": [
              "True"
            ]
          },
          "metadata": {},
          "execution_count": 45
        }
      ]
    },
    {
      "cell_type": "code",
      "source": [],
      "metadata": {
        "id": "yPvfZg3_qjn8"
      },
      "execution_count": null,
      "outputs": []
    },
    {
      "cell_type": "markdown",
      "source": [
        "## **Logical Operator**"
      ],
      "metadata": {
        "id": "9GQfbTijqn1m"
      }
    },
    {
      "cell_type": "code",
      "source": [
        "x = 25\n",
        "y = 29\n",
        "# Condition AND\n",
        "x<29 and y<25\n",
        "\n",
        "# Condition NOT\n",
        "not(x<29 and y<25)"
      ],
      "metadata": {
        "id": "Wbf80lZ2KrTz"
      },
      "execution_count": null,
      "outputs": []
    },
    {
      "cell_type": "code",
      "source": [
        "1 and 0"
      ],
      "metadata": {
        "colab": {
          "base_uri": "https://localhost:8080/"
        },
        "id": "VsuKYfBJqqBD",
        "outputId": "6a40a071-65fb-4725-fe95-a6d69413f199"
      },
      "execution_count": null,
      "outputs": [
        {
          "output_type": "execute_result",
          "data": {
            "text/plain": [
              "0"
            ]
          },
          "metadata": {},
          "execution_count": 46
        }
      ]
    },
    {
      "cell_type": "code",
      "source": [
        "1 or 0"
      ],
      "metadata": {
        "colab": {
          "base_uri": "https://localhost:8080/"
        },
        "id": "D7opOmFSqqEy",
        "outputId": "1017854e-9627-4e07-83d7-b55666a43404"
      },
      "execution_count": null,
      "outputs": [
        {
          "output_type": "execute_result",
          "data": {
            "text/plain": [
              "1"
            ]
          },
          "metadata": {},
          "execution_count": 48
        }
      ]
    },
    {
      "cell_type": "code",
      "source": [
        "not 1"
      ],
      "metadata": {
        "colab": {
          "base_uri": "https://localhost:8080/"
        },
        "id": "T3CfFHkUqvUE",
        "outputId": "d9fdbad1-7e07-472e-ff12-3a27eca41753"
      },
      "execution_count": null,
      "outputs": [
        {
          "output_type": "execute_result",
          "data": {
            "text/plain": [
              "False"
            ]
          },
          "metadata": {},
          "execution_count": 49
        }
      ]
    },
    {
      "cell_type": "code",
      "source": [],
      "metadata": {
        "id": "n72ZWTwgqvXo"
      },
      "execution_count": null,
      "outputs": []
    },
    {
      "cell_type": "markdown",
      "source": [
        "## **Assignment Operator**"
      ],
      "metadata": {
        "id": "4eZG8MRyrAmW"
      }
    },
    {
      "cell_type": "code",
      "source": [],
      "metadata": {
        "id": "JGmoTnFwrDEK"
      },
      "execution_count": null,
      "outputs": []
    },
    {
      "cell_type": "markdown",
      "source": [
        "## **Membership Operator**"
      ],
      "metadata": {
        "id": "LFaltogzrDLM"
      }
    },
    {
      "cell_type": "code",
      "source": [
        "# Membership operator\n",
        "x = 'Ybi'\n",
        "y = 'ybi foundation'\n",
        "\n",
        "x is y\n",
        "x in y\n",
        "x is not y\n",
        "x not in y"
      ],
      "metadata": {
        "id": "MnzM1UoBrGSG"
      },
      "execution_count": null,
      "outputs": []
    },
    {
      "cell_type": "markdown",
      "source": [
        "#🔗[Have a Doubt? Join Our Live Q&A for Help](https://www.ybifoundation.org/session/live-doubt-resolution-session)"
      ],
      "metadata": {
        "id": "MfCnxn--LEzx"
      }
    },
    {
      "cell_type": "code",
      "source": [],
      "metadata": {
        "id": "q0rO9quwYhg6"
      },
      "execution_count": null,
      "outputs": []
    }
  ]
}