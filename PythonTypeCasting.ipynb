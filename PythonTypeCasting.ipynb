{
  "nbformat": 4,
  "nbformat_minor": 0,
  "metadata": {
    "colab": {
      "provenance": [],
      "include_colab_link": true
    },
    "kernelspec": {
      "name": "python3",
      "display_name": "Python 3"
    },
    "language_info": {
      "name": "python"
    }
  },
  "cells": [
    {
      "cell_type": "markdown",
      "metadata": {
        "id": "view-in-github",
        "colab_type": "text"
      },
      "source": [
        "<a href=\"https://colab.research.google.com/github/kupendrav/DS-AI/blob/main/PythonTypeCasting.ipynb\" target=\"_parent\"><img src=\"https://colab.research.google.com/assets/colab-badge.svg\" alt=\"Open In Colab\"/></a>"
      ]
    },
    {
      "cell_type": "markdown",
      "source": [
        "https://www.ybifoundation.org"
      ],
      "metadata": {
        "id": "geHotNIV_cxm"
      }
    },
    {
      "cell_type": "code",
      "source": [
        "# int conversion\n",
        "int(2529)"
      ],
      "metadata": {
        "id": "FAbwNxZ_Bopo"
      },
      "execution_count": null,
      "outputs": []
    },
    {
      "cell_type": "code",
      "source": [
        "int(4+5j)"
      ],
      "metadata": {
        "id": "MXd09WUgB3o_"
      },
      "execution_count": null,
      "outputs": []
    },
    {
      "cell_type": "code",
      "source": [
        "# float conversion\n",
        "float(2529)"
      ],
      "metadata": {
        "id": "LHEPWBtjBpJj"
      },
      "execution_count": null,
      "outputs": []
    },
    {
      "cell_type": "code",
      "source": [
        "# string conversion\n",
        "str(2529)"
      ],
      "metadata": {
        "id": "vhb1JkWrBsKh"
      },
      "execution_count": null,
      "outputs": []
    },
    {
      "cell_type": "code",
      "source": [
        "# bool conversion\n",
        "bool(2529)\n",
        "bool('ybi')\n",
        "bool(' ')\n",
        "bool(0)\n",
        "bool('')"
      ],
      "metadata": {
        "id": "9vj9j92YBtkj"
      },
      "execution_count": null,
      "outputs": []
    },
    {
      "cell_type": "code",
      "source": [],
      "metadata": {
        "id": "PkqxfXLiB2EZ"
      },
      "execution_count": null,
      "outputs": []
    },
    {
      "cell_type": "code",
      "source": [],
      "metadata": {
        "id": "7C33bs2WB2Iw"
      },
      "execution_count": null,
      "outputs": []
    },
    {
      "cell_type": "markdown",
      "source": [
        "#🔗[Have a Doubt? Join Our Live Q&A for Help](https://www.ybifoundation.org/session/live-doubt-resolution-session)"
      ],
      "metadata": {
        "id": "MfCnxn--LEzx"
      }
    },
    {
      "cell_type": "code",
      "source": [],
      "metadata": {
        "id": "DkggvzZGZJR0"
      },
      "execution_count": null,
      "outputs": []
    }
  ]
}